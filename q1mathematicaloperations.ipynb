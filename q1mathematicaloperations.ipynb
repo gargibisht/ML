{
 "cells": [
  {
   "cell_type": "code",
   "execution_count": 1,
   "id": "a7eea4fe",
   "metadata": {},
   "outputs": [
    {
     "name": "stdout",
     "output_type": "stream",
     "text": [
      "Enter number 1: 6\n",
      "Enter number 2: 5\n",
      "Results after elementary maths operations:------\n",
      "Addition:  11\n",
      "Subtraction:  1\n",
      "Division:  1.2\n",
      "Multiplication:  30\n",
      "Exponent:  7776\n"
     ]
    }
   ],
   "source": [
    "x=int(input(\"Enter number 1: \"))\n",
    "y=int(input(\"Enter number 2: \"))\n",
    "\n",
    "print(\"Results after elementary maths operations:------\")\n",
    "\n",
    "print(\"Addition: \",x+y)\n",
    "print(\"Subtraction: \",x-y)\n",
    "if(y!=0):\n",
    "    print(\"Division: \",x/y)\n",
    "else:\n",
    "    print(\"Division not possible!!\")\n",
    "print(\"Multiplication: \",x*y)\n",
    "print(\"Exponent: \",x**y)"
   ]
  },
  {
   "cell_type": "code",
   "execution_count": null,
   "id": "86d702ec",
   "metadata": {},
   "outputs": [],
   "source": []
  }
 ],
 "metadata": {
  "kernelspec": {
   "display_name": "Python 3 (ipykernel)",
   "language": "python",
   "name": "python3"
  },
  "language_info": {
   "codemirror_mode": {
    "name": "ipython",
    "version": 3
   },
   "file_extension": ".py",
   "mimetype": "text/x-python",
   "name": "python",
   "nbconvert_exporter": "python",
   "pygments_lexer": "ipython3",
   "version": "3.9.7"
  }
 },
 "nbformat": 4,
 "nbformat_minor": 5
}
