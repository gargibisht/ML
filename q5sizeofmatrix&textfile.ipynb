{
 "cells": [
  {
   "cell_type": "code",
   "execution_count": 2,
   "id": "0950b35e",
   "metadata": {},
   "outputs": [
    {
     "name": "stdout",
     "output_type": "stream",
     "text": [
      "Array:\n",
      "---------------------------------------------------------------------------\n",
      "[[ 0.18034035 -1.8479705   0.90080596]\n",
      " [-0.41977762  0.57493183  1.69447267]\n",
      " [-1.19121192 -0.36369531  0.54476833]\n",
      " [ 0.28807596 -0.6950863  -0.89230916]]\n",
      "\n",
      "Size of Array:\n",
      "---------------------------------------------------------------------------\n",
      "12\n",
      "\n",
      "Size of particular row (row 2):\n",
      "---------------------------------------------------------------------------\n",
      "4\n",
      "\n",
      "Size of particular column (column 2):\n",
      "---------------------------------------------------------------------------\n",
      "3\n",
      "\n",
      "Taking input from file: \n",
      "---------------------------------------------------------------------------\n",
      "[ 2.    -3.     4.     5.     2.111]\n",
      "\n",
      "Saving Array to a file: \n",
      "---------------------------------------------------------------------------\n"
     ]
    }
   ],
   "source": [
    "import numpy as np\n",
    "arr=np.random.randn(4,3)\n",
    "print('Array:')\n",
    "print('---------------------------------------------------------------------------')\n",
    "print(arr)\n",
    "print()\n",
    "print('Size of Array:')\n",
    "print('---------------------------------------------------------------------------')\n",
    "print(arr.size)\n",
    "print()\n",
    "print('Size of particular row (row 2):')\n",
    "print('---------------------------------------------------------------------------')\n",
    "print(len(arr[:,2]))\n",
    "print()\n",
    "print('Size of particular column (column 2):')\n",
    "print('---------------------------------------------------------------------------')\n",
    "print(len(arr[2,:]))\n",
    "print()\n",
    "print('Taking input from file: ')\n",
    "print('---------------------------------------------------------------------------')\n",
    "with open('numpy2text.txt', 'r') as f:\n",
    "    l =np.loadtxt(f)\n",
    "print(l)\n",
    "print()\n",
    "print('Saving Array to a file: ')\n",
    "print('---------------------------------------------------------------------------')\n",
    "with open('numpy2output.txt', 'wb') as f:\n",
    "    np.savetxt(f,arr)"
   ]
  },
  {
   "cell_type": "code",
   "execution_count": null,
   "id": "d4bdb188",
   "metadata": {},
   "outputs": [],
   "source": []
  }
 ],
 "metadata": {
  "kernelspec": {
   "display_name": "Python 3 (ipykernel)",
   "language": "python",
   "name": "python3"
  },
  "language_info": {
   "codemirror_mode": {
    "name": "ipython",
    "version": 3
   },
   "file_extension": ".py",
   "mimetype": "text/x-python",
   "name": "python",
   "nbconvert_exporter": "python",
   "pygments_lexer": "ipython3",
   "version": "3.9.7"
  }
 },
 "nbformat": 4,
 "nbformat_minor": 5
}
